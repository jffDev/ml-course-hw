{
 "cells": [
  {
   "cell_type": "markdown",
   "metadata": {
    "id": "ASUIwd0aGjcw",
    "pycharm": {
     "name": "#%% md\n"
    }
   },
   "source": [
    "## Lab 2"
   ]
  },
  {
   "cell_type": "markdown",
   "metadata": {
    "id": "WB1gAlSOGjcz",
    "pycharm": {
     "name": "#%% md\n"
    }
   },
   "source": [
    "### Part 3. Poetry generation\n",
    "\n",
    "Let's try to generate some poetry using RNNs. \n",
    "\n",
    "You have several choices here: \n",
    "\n",
    "* The Shakespeare sonnets, file `sonnets.txt` available in the notebook directory.\n",
    "\n",
    "* Роман в стихах \"Евгений Онегин\" Александра Сергеевича Пушкина. В предобработанном виде доступен по [ссылке](https://github.com/attatrol/data_sources/blob/master/onegin.txt).\n",
    "\n",
    "* Some other text source, if it will be approved by the course staff.\n",
    "\n",
    "Text generation can be designed in several steps:\n",
    "    \n",
    "1. Data loading.\n",
    "2. Dictionary generation.\n",
    "3. Data preprocessing.\n",
    "4. Model (neural network) training.\n",
    "5. Text generation (model evaluation).\n"
   ]
  },
  {
   "cell_type": "code",
   "execution_count": 2,
   "metadata": {
    "id": "EAqaUQM9Gjc1",
    "pycharm": {
     "name": "#%%\n"
    }
   },
   "outputs": [],
   "source": [
    "import string\n",
    "import os\n",
    "import numpy as np"
   ]
  },
  {
   "cell_type": "markdown",
   "metadata": {
    "id": "vD0EJkoSGjdA",
    "pycharm": {
     "name": "#%% md\n"
    }
   },
   "source": [
    "### Data loading: Shakespeare"
   ]
  },
  {
   "cell_type": "markdown",
   "metadata": {
    "id": "LLqdVIKQGjdD",
    "pycharm": {
     "name": "#%% md\n"
    }
   },
   "source": [
    "Shakespeare sonnets are awailable at this [link](http://www.gutenberg.org/ebooks/1041?msg=welcome_stranger). In addition, they are stored in the same directory as this notebook (`sonnetes.txt`). Simple preprocessing is already done for you in the next cell: all technical info is dropped."
   ]
  },
  {
   "cell_type": "code",
   "execution_count": 4,
   "metadata": {
    "id": "gbGYVbV-GjdF",
    "pycharm": {
     "name": "#%%\n"
    }
   },
   "outputs": [],
   "source": [
    "if not os.path.exists('sonnets.txt'):\n",
    "    !wget https://raw.githubusercontent.com/girafe-ai/ml-mipt/master/homeworks_basic/Lab2_DL/sonnets.txt\n",
    "\n",
    "with open('sonnets.txt', 'r') as iofile:\n",
    "    text = iofile.readlines()\n",
    "    \n",
    "TEXT_START = 45\n",
    "TEXT_END = -368\n",
    "text = text[TEXT_START : TEXT_END]\n",
    "assert len(text) == 2616"
   ]
  },
  {
   "cell_type": "markdown",
   "metadata": {
    "id": "96qYDzb2GjdN",
    "pycharm": {
     "name": "#%% md\n"
    }
   },
   "source": [
    "In opposite to the in-class practice, this time we want to predict complex text. Let's reduce the complexity of the task and lowercase all the symbols.\n",
    "\n",
    "Now variable `text` is a list of strings. Join all the strings into one and lowercase it."
   ]
  },
  {
   "cell_type": "code",
   "execution_count": 6,
   "metadata": {
    "colab": {
     "base_uri": "https://localhost:8080/",
     "height": 34
    },
    "id": "yN8pMImgGjdO",
    "outputId": "9defb796-19df-4031-ed3f-6b804d8a2a98",
    "pycharm": {
     "name": "#%%\n"
    }
   },
   "outputs": [
    {
     "name": "stdout",
     "output_type": "stream",
     "text": [
      "OK!\n"
     ]
    }
   ],
   "source": [
    "str = \"\";\n",
    "for i in range(len(text)):\n",
    "    str = str + text[i]\n",
    "\n",
    "text = str.lower()\n",
    "\n",
    "assert len(text) == 100225, 'Are you sure you have concatenated all the strings?'\n",
    "assert not any([x in set(text) for x in string.ascii_uppercase]), 'Uppercase letters are present'\n",
    "print('OK!')"
   ]
  },
  {
   "cell_type": "markdown",
   "metadata": {
    "pycharm": {
     "name": "#%% md\n"
    }
   },
   "source": [
    "### Data loading: \"Евгений Онегин\"\n"
   ]
  },
  {
   "cell_type": "markdown",
   "source": [
    "Получаем текст \"Онегин\""
   ],
   "metadata": {
    "collapsed": false,
    "pycharm": {
     "name": "#%% md\n"
    }
   }
  },
  {
   "cell_type": "code",
   "execution_count": 9,
   "metadata": {
    "colab": {
     "base_uri": "https://localhost:8080/",
     "height": 207
    },
    "id": "wQKnXakf2MK6",
    "outputId": "f844ecac-b3ac-4d8b-b798-13a6ea2e96ec",
    "pycharm": {
     "name": "#%%\n"
    }
   },
   "outputs": [],
   "source": [
    "if not os.path.exists('onegin.txt'):\n",
    "    !wget https://raw.githubusercontent.com/attatrol/data_sources/master/onegin.txt\n",
    "text = ''\n",
    "with open('onegin.txt', 'r', encoding=\"utf8\") as iofile:\n",
    "    text = iofile.readlines()\n",
    "\n",
    "text = [x.replace('\\t\\t', '') for x in text]"
   ]
  },
  {
   "cell_type": "markdown",
   "source": [
    "Тк у нас текст разбит на главы, мы можем их выделить, для этого научимся определять номер главы"
   ],
   "metadata": {
    "collapsed": false,
    "pycharm": {
     "name": "#%% md\n"
    }
   }
  },
  {
   "cell_type": "code",
   "execution_count": 44,
   "outputs": [],
   "source": [
    "def roman_char(s):\n",
    "    chars = [\"I\", \"V\", \"X\", \"L\", \"C\", \"D\", \"M\", \"(\", \")\"]\n",
    "    valid = True\n",
    "    for letter in s:\n",
    "        if letter not in chars:\n",
    "            valid = False\n",
    "            break\n",
    "    return valid"
   ],
   "metadata": {
    "collapsed": false,
    "pycharm": {
     "name": "#%%\n"
    }
   }
  },
  {
   "cell_type": "markdown",
   "source": [
    "Опишем разделитель:"
   ],
   "metadata": {
    "collapsed": false,
    "pycharm": {
     "name": "#%% md\n"
    }
   }
  },
  {
   "cell_type": "code",
   "execution_count": 45,
   "outputs": [],
   "source": [
    "PAD = '_'"
   ],
   "metadata": {
    "collapsed": false,
    "pycharm": {
     "name": "#%%\n"
    }
   }
  },
  {
   "cell_type": "code",
   "execution_count": 11,
   "outputs": [],
   "source": [
    "sonnets = []\n",
    "sonnet = []\n",
    "for line in text:\n",
    "    if line.strip():\n",
    "        if roman_char(line.strip()):\n",
    "            sonnets.append(''.join(sonnet))\n",
    "            sonnet = []\n",
    "            continue\n",
    "        sonnet.append(line.lstrip().lower())"
   ],
   "metadata": {
    "collapsed": false,
    "pycharm": {
     "name": "#%%\n"
    }
   }
  },
  {
   "cell_type": "markdown",
   "metadata": {
    "pycharm": {
     "name": "#%% md\n"
    }
   },
   "source": [
    "In opposite to the in-class practice, this time we want to predict complex text. Let's reduce the complexity of the task and lowercase all the symbols.\n",
    "\n",
    "Now variable `text` is a list of strings. Join all the strings into one and lowercase it."
   ]
  },
  {
   "cell_type": "markdown",
   "source": [
    "Форматируем текст в нижний регистр:"
   ],
   "metadata": {
    "collapsed": false,
    "pycharm": {
     "name": "#%% md\n"
    }
   }
  },
  {
   "cell_type": "code",
   "execution_count": 13,
   "metadata": {
    "id": "mPFKGVBmvUiQ",
    "pycharm": {
     "name": "#%%\n"
    }
   },
   "outputs": [],
   "source": [
    "text = ''.join(text).lower()"
   ]
  },
  {
   "cell_type": "markdown",
   "metadata": {
    "id": "pKKa-fg4Gjdc",
    "pycharm": {
     "name": "#%% md\n"
    }
   },
   "source": [
    "Put all the characters, that you've seen in the text, into variable `tokens`."
   ]
  },
  {
   "cell_type": "markdown",
   "source": [
    "Формируем токены"
   ],
   "metadata": {
    "collapsed": false,
    "pycharm": {
     "name": "#%% md\n"
    }
   }
  },
  {
   "cell_type": "code",
   "execution_count": 15,
   "outputs": [],
   "source": [
    "tokens = set(text)\n",
    "tokens.add(PAD)\n",
    "tokens = sorted(tokens)\n",
    "num_tokens = len(tokens)\n",
    "assert num_tokens == 84"
   ],
   "metadata": {
    "collapsed": false,
    "pycharm": {
     "name": "#%%\n"
    }
   }
  },
  {
   "cell_type": "markdown",
   "source": [
    "Выведем полученные токены и посмотрим на них:"
   ],
   "metadata": {
    "collapsed": false,
    "pycharm": {
     "name": "#%% md\n"
    }
   }
  },
  {
   "cell_type": "code",
   "execution_count": 16,
   "outputs": [
    {
     "name": "stdout",
     "output_type": "stream",
     "text": [
      "\n",
      "   ! ( ) , - . 5 7 8 9 : ; ? [ ] ^ _ a b c d e f g h i k l m n o p q r s t u v w x y z « » а б в г д е ж з и й к л м н о п р с т у ф х ц ч ш щ ъ ы ь э ю я ё – — ’ … €\n"
     ]
    }
   ],
   "source": [
    "print(*tokens)"
   ],
   "metadata": {
    "collapsed": false,
    "pycharm": {
     "name": "#%%\n"
    }
   }
  },
  {
   "cell_type": "markdown",
   "metadata": {
    "id": "OblvmWfqGjde",
    "pycharm": {
     "name": "#%% md\n"
    }
   },
   "source": [
    "Create dictionary `token_to_idx = {<char>: <index>}` and dictionary `idx_to_token = {<index>: <char>}`"
   ]
  },
  {
   "cell_type": "markdown",
   "source": [
    "Реализация словарей"
   ],
   "metadata": {
    "collapsed": false,
    "pycharm": {
     "name": "#%% md\n"
    }
   }
  },
  {
   "cell_type": "code",
   "execution_count": 17,
   "outputs": [],
   "source": [
    "# dict <index>:<char>\n",
    "# Your great code here\n",
    "idx_to_token = {i: c for i, c in enumerate(tokens)}\n",
    "\n",
    "# dict <char>:<index>\n",
    "# Your great code here\n",
    "token_to_idx = {c: i for i, c in enumerate(tokens)}"
   ],
   "metadata": {
    "collapsed": false,
    "pycharm": {
     "name": "#%%\n"
    }
   }
  },
  {
   "cell_type": "markdown",
   "metadata": {
    "id": "jKD533AZGjdi",
    "pycharm": {
     "name": "#%% md\n"
    }
   },
   "source": [
    "### Building the model"
   ]
  },
  {
   "cell_type": "markdown",
   "metadata": {
    "id": "JylAZAn3Gjdi",
    "pycharm": {
     "name": "#%% md\n"
    }
   },
   "source": [
    "Now we want to build and train recurrent neural net which would be able to something similar to Shakespeare's poetry.\n",
    "\n",
    "Let's use vanilla RNN, similar to the one created during the lesson."
   ]
  },
  {
   "cell_type": "code",
   "execution_count": 46,
   "outputs": [],
   "source": [
    "import os\n",
    "os.environ['CUDA_LAUNCH_BLOCKING'] = \"1\""
   ],
   "metadata": {
    "collapsed": false,
    "pycharm": {
     "name": "#%%\n"
    }
   }
  },
  {
   "cell_type": "code",
   "execution_count": 19,
   "metadata": {
    "id": "ZLkbzXlbIcF5",
    "pycharm": {
     "name": "#%%\n"
    }
   },
   "outputs": [],
   "source": [
    "import torch, torch.nn as nn\n",
    "import torch.nn.functional as F\n",
    "from torch.utils.data import DataLoader\n",
    "from IPython.display import clear_output\n",
    "import numpy as np\n",
    "import matplotlib.pyplot as plt\n",
    "%matplotlib inline\n"
   ]
  },
  {
   "cell_type": "code",
   "execution_count": 20,
   "outputs": [
    {
     "data": {
      "text/plain": "'cuda:0'"
     },
     "execution_count": 20,
     "metadata": {},
     "output_type": "execute_result"
    }
   ],
   "source": [
    "device = 'cuda:0' if torch.cuda.is_available() else 'cpu'\n",
    "device"
   ],
   "metadata": {
    "collapsed": false,
    "pycharm": {
     "name": "#%%\n"
    }
   }
  },
  {
   "cell_type": "markdown",
   "source": [
    "Реализуем матрицу кодирования:"
   ],
   "metadata": {
    "collapsed": false,
    "pycharm": {
     "name": "#%% md\n"
    }
   }
  },
  {
   "cell_type": "code",
   "execution_count": 47,
   "outputs": [],
   "source": [
    "def matrix(token_to_idx, sequences, max_len=None, PAD='_'):\n",
    "    max_len = max_len or max(map(len, sequences))\n",
    "    sequences_ix = np.zeros([len(sequences), max_len], 'int32')\n",
    "\n",
    "    for i in range(len(sequences)):\n",
    "        line_ix = [token_to_idx[c] for c in sequences[i]]\n",
    "        sequences_ix[i, :len(sequences[i])] = line_ix\n",
    "        sequences_ix[i, len(sequences[i]):] = token_to_idx[PAD]\n",
    "\n",
    "    return sequences_ix"
   ],
   "metadata": {
    "collapsed": false,
    "pycharm": {
     "name": "#%%\n"
    }
   }
  },
  {
   "cell_type": "markdown",
   "source": [
    "Сам цикл обучения"
   ],
   "metadata": {
    "collapsed": false,
    "pycharm": {
     "name": "#%% md\n"
    }
   }
  },
  {
   "cell_type": "code",
   "execution_count": 21,
   "outputs": [],
   "source": [
    "def train_loop(model, loss_func, opt, n_epoch, num_tokens, train_loader):\n",
    "    history = []\n",
    "    for i in range(n_epoch):\n",
    "        epoch_loss = []\n",
    "        for batch_ix in train_loader:\n",
    "            batch_ix = torch.tensor(batch_ix, dtype=torch.long).to(device)\n",
    "\n",
    "            initial_state = model.initial_state(batch_size=batch_ix.shape[0])\n",
    "            logits_seq, _ = model(batch_ix, initial_state)\n",
    "            predictions_logits = logits_seq[:, :-1]\n",
    "            actual_next_tokens = batch_ix[:, 1:]\n",
    "\n",
    "            loss = loss_func(\n",
    "                predictions_logits.reshape((-1, num_tokens)),\n",
    "                actual_next_tokens.reshape(-1)\n",
    "            )\n",
    "\n",
    "            loss.backward()\n",
    "            opt.step()\n",
    "            opt.zero_grad()\n",
    "\n",
    "            epoch_loss.append(loss.item())\n",
    "\n",
    "        history.append(sum(epoch_loss) / len(epoch_loss))\n",
    "        if (i + 1) % 100 == 0:\n",
    "            clear_output(True)\n",
    "            plt.plot(history, label='Loss')\n",
    "            plt.xlabel('Epoch')\n",
    "            plt.ylabel('Loss')\n",
    "            plt.legend()\n",
    "            plt.show()\n",
    "\n",
    "    print(f'Final Loss: {history[-1]}')"
   ],
   "metadata": {
    "collapsed": false,
    "pycharm": {
     "name": "#%%\n"
    }
   }
  },
  {
   "cell_type": "markdown",
   "source": [
    "Реализуем RNN модель:"
   ],
   "metadata": {
    "collapsed": false,
    "pycharm": {
     "name": "#%% md\n"
    }
   }
  },
  {
   "cell_type": "code",
   "execution_count": 26,
   "outputs": [
    {
     "name": "stdout",
     "output_type": "stream",
     "text": [
      "cuda:0\n"
     ]
    }
   ],
   "source": [
    "class RNN(nn.Module):\n",
    "    def __init__(self, input_size=84, hidden_size=64):\n",
    "        super(self.__class__, self).__init__()\n",
    "        self.input_size = input_size\n",
    "        self.hidden_size = hidden_size\n",
    "        self.rnn = nn.RNN(input_size, hidden_size, batch_first=True).to(device)\n",
    "        self.hid_to_logits = nn.Linear(hidden_size, input_size).to(device)\n",
    "\n",
    "    def forward(self, x, h_state):\n",
    "        emb = F.one_hot(x, self.input_size).float()\n",
    "        h_seq, h_state = self.rnn(emb, h_state)\n",
    "        next_logits = self.hid_to_logits(h_seq)\n",
    "        return next_logits, h_state\n",
    "\n",
    "    def initial_state(self, batch_size=1):\n",
    "        if batch_size != 1:\n",
    "            return torch.zeros(1, batch_size, self.hidden_size).to(device)\n",
    "        else:\n",
    "            return torch.zeros(batch_size, self.hidden_size).to(device)"
   ],
   "metadata": {
    "collapsed": false,
    "pycharm": {
     "name": "#%%\n"
    }
   }
  },
  {
   "cell_type": "code",
   "execution_count": 27,
   "outputs": [
    {
     "data": {
      "text/plain": "84"
     },
     "execution_count": 27,
     "metadata": {},
     "output_type": "execute_result"
    }
   ],
   "source": [
    "train_loader = DataLoader(matrix(token_to_idx, sonnets), batch_size=32, shuffle=True)\n",
    "len(tokens)"
   ],
   "metadata": {
    "collapsed": false,
    "pycharm": {
     "name": "#%%\n"
    }
   }
  },
  {
   "cell_type": "code",
   "execution_count": 28,
   "outputs": [
    {
     "data": {
      "text/plain": "84"
     },
     "execution_count": 28,
     "metadata": {},
     "output_type": "execute_result"
    }
   ],
   "source": [
    "len(token_to_idx)"
   ],
   "metadata": {
    "collapsed": false,
    "pycharm": {
     "name": "#%%\n"
    }
   }
  },
  {
   "cell_type": "code",
   "execution_count": 29,
   "outputs": [
    {
     "data": {
      "text/plain": "<Figure size 640x480 with 1 Axes>",
      "image/png": "[encoded data removed]"
     },
     "metadata": {},
     "output_type": "display_data"
    },
    {
     "name": "stdout",
     "output_type": "stream",
     "text": [
      "Final Loss: 1.9688992202281952\n"
     ]
    }
   ],
   "source": [
    "model_rnn = RNN(input_size=len(tokens))\n",
    "opt = torch.optim.Adam(model_rnn.parameters())\n",
    "loss_func = nn.CrossEntropyLoss(ignore_index=token_to_idx[PAD])\n",
    "n_epoch = 1000\n",
    "\n",
    "train_loop(\n",
    "    model=model_rnn,\n",
    "    loss_func=loss_func,\n",
    "    opt=opt,\n",
    "    n_epoch=n_epoch,\n",
    "    num_tokens=num_tokens,\n",
    "    train_loader=train_loader)"
   ],
   "metadata": {
    "collapsed": false,
    "pycharm": {
     "name": "#%%\n"
    }
   }
  },
  {
   "cell_type": "markdown",
   "metadata": {
    "pycharm": {
     "name": "#%% md\n"
    }
   },
   "source": [
    "Plot the loss function (axis X: number of epochs, axis Y: loss function)."
   ]
  },
  {
   "cell_type": "code",
   "execution_count": 30,
   "metadata": {
    "id": "8c79czFiJaiB",
    "pycharm": {
     "name": "#%%\n"
    }
   },
   "outputs": [],
   "source": [
    "MAX_LENGTH = 512"
   ]
  },
  {
   "cell_type": "code",
   "execution_count": 31,
   "outputs": [],
   "source": [
    "def generate_sample(char_rnn, seed_phrase='Hello', max_length=64, temperature=1.0):\n",
    "    '''\n",
    "    ### Disclaimer: this is an example function for text generation.\n",
    "    ### You can either adapt it in your code or create your own function\n",
    "\n",
    "    The function generates text given a phrase of length at least SEQ_LENGTH.\n",
    "    :param seed_phrase: prefix characters. The RNN is asked to continue the phrase\n",
    "    :param max_length: maximum output length, including seed_phrase\n",
    "    :param temperature: coefficient for sampling.  higher temperature produces more chaotic outputs,\n",
    "        smaller temperature converges to the single most likely output.\n",
    "\n",
    "    Be careful with the model output. This model waits logits (not probabilities/log-probabilities)\n",
    "    of the next symbol.\n",
    "    '''\n",
    "    seed_phrase = seed_phrase.lower()\n",
    "\n",
    "    x_sequence = [token_to_idx[token] for token in seed_phrase]\n",
    "    x_sequence = torch.tensor([x_sequence], dtype=torch.int64)\n",
    "    hid_state = char_rnn.initial_state()\n",
    "\n",
    "    #feed the seed phrase, if any\n",
    "    for i in range(len(seed_phrase) - 1):\n",
    "        out, hid_state = char_rnn(x_sequence[:, i].to(device), hid_state)\n",
    "\n",
    "    #start generating\n",
    "    for _ in range(max_length - len(seed_phrase)):\n",
    "        out, hid_state = char_rnn(x_sequence[:, -1].to(device), hid_state)\n",
    "        # Be really careful here with the model output\n",
    "        p_next = F.softmax(out / temperature, dim=-1).cpu().data.numpy()[0]\n",
    "\n",
    "        # sample next token and push it back into x_sequence\n",
    "        next_ix = np.random.choice(len(tokens), p=p_next)\n",
    "        next_ix = torch.tensor([[next_ix]], dtype=torch.int64)\n",
    "        # if next_ix == token_to_idx[EOS]:\n",
    "        #     break\n",
    "        x_sequence = torch.cat([x_sequence, next_ix], dim=1)\n",
    "    return ''.join([idx_to_token[ix] for ix in x_sequence.data.numpy()[0]])"
   ],
   "metadata": {
    "collapsed": false,
    "pycharm": {
     "name": "#%%\n"
    }
   }
  },
  {
   "cell_type": "code",
   "execution_count": 32,
   "outputs": [
    {
     "name": "stdout",
     "output_type": "stream",
     "text": [
      "Когда\n",
      "\n",
      "***\n",
      "Temeprature: 0.3\n",
      "когда по вылом потовельный\n",
      "с от собо в своей пострать,\n",
      "не в судно в столиный молой\n",
      "так не володит не лено\n",
      "в полно таня подруг мо\n",
      "\n",
      "***\n",
      "Temeprature: 0.5\n",
      "когда пред не ль он вам просте свет.\n",
      "она в суда стравит и должный,\n",
      "с ней рассудим бестрать перей\n",
      "и промно в сои не свительный,\n",
      "и\n",
      "\n",
      "***\n",
      "Temeprature: 0.8\n",
      "когда васну, подеверы жизно,\n",
      "девелься вуди молчал, чет:\n",
      "«пистоластве; уж глурить с могты\n",
      "мни прострали душа полет,\n",
      "и вечь кокоро\n",
      "\n",
      "***\n",
      "Temeprature: 1\n",
      "когда болоть огниты пребрав»!\n",
      "а грул кам пирок вотягловая,\n",
      "всё токор увиру паечкил\n",
      "он блюдливы савнет расподие,\n",
      "и самея чисо рог\n"
     ]
    }
   ],
   "source": [
    "model_rnn.eval()\n",
    "\n",
    "phrase = 'Когда'\n",
    "print(phrase)\n",
    "with torch.no_grad():\n",
    "    for temperature in [0.3, 0.5, 0.8, 1]:\n",
    "        print('')\n",
    "        print('***')\n",
    "        print(f'Temeprature: {temperature}')\n",
    "        print(generate_sample(model_rnn, seed_phrase=phrase, max_length=128, temperature=temperature))\n"
   ],
   "metadata": {
    "collapsed": false,
    "pycharm": {
     "name": "#%%\n"
    }
   }
  },
  {
   "cell_type": "markdown",
   "metadata": {
    "id": "4M1CBKH6qLR9",
    "pycharm": {
     "name": "#%% md\n"
    }
   },
   "source": [
    "Получился в некотором смысле даже осмысленный и читаемый текст знаками препинания. Но в текстах не хватает деталей и какой-то более \"человечной\" связи между словами.\n",
    "Для этого попробуем реализовать LSTM модель, немного отличную от RNN и сравним результаты."
   ]
  },
  {
   "cell_type": "markdown",
   "metadata": {
    "id": "khO_HRLEGjdr",
    "pycharm": {
     "name": "#%% md\n"
    }
   },
   "source": [
    "### More poetic model\n",
    "\n",
    "Let's use LSTM instead of vanilla RNN and compare the results."
   ]
  },
  {
   "cell_type": "code",
   "execution_count": 36,
   "outputs": [],
   "source": [
    "class LSTM(nn.Module):\n",
    "    def __init__(self, input_size=84, layers=2, hidden_size=64):\n",
    "        super(self.__class__, self).__init__()\n",
    "        self.input_size = input_size\n",
    "        self.hidden_size = hidden_size\n",
    "        self.layers = layers\n",
    "        self.lstm = nn.LSTM(input_size, hidden_size, num_layers=layers, batch_first=True).to(device)\n",
    "        self.hid_to_logits = nn.Linear(hidden_size, input_size).to(device)\n",
    "\n",
    "    def forward(self, x, state):\n",
    "        emb = F.one_hot(x, self.input_size).float()\n",
    "        h_seq, state = self.lstm(emb, state)\n",
    "        next_logits = self.hid_to_logits(h_seq)\n",
    "        return next_logits, state\n",
    "\n",
    "    def initial_state(self, batch_size=1):\n",
    "        if batch_size != 1:\n",
    "            return (torch.zeros(self.layers, batch_size, self.hidden_size).to(device), \\\n",
    "                    torch.zeros(self.layers, batch_size, self.hidden_size).to(device))\n",
    "        else:\n",
    "            return (torch.zeros(self.layers, self.hidden_size).to(device), \\\n",
    "                    torch.zeros(self.layers, self.hidden_size).to(device))"
   ],
   "metadata": {
    "collapsed": false,
    "pycharm": {
     "name": "#%%\n"
    }
   }
  },
  {
   "cell_type": "code",
   "execution_count": 37,
   "outputs": [
    {
     "data": {
      "text/plain": "84"
     },
     "execution_count": 37,
     "metadata": {},
     "output_type": "execute_result"
    }
   ],
   "source": [
    "len(tokens)"
   ],
   "metadata": {
    "collapsed": false,
    "pycharm": {
     "name": "#%%\n"
    }
   }
  },
  {
   "cell_type": "code",
   "execution_count": 38,
   "outputs": [
    {
     "data": {
      "text/plain": "<Figure size 640x480 with 1 Axes>",
      "image/png": "[encoded data removed]"
     },
     "metadata": {},
     "output_type": "display_data"
    },
    {
     "name": "stdout",
     "output_type": "stream",
     "text": [
      "Final Loss: 1.7023503283659618\n"
     ]
    }
   ],
   "source": [
    "model_lstm = LSTM(input_size=len(tokens), layers=2)\n",
    "opt = torch.optim.Adam(model_lstm.parameters())\n",
    "loss_func = nn.CrossEntropyLoss(ignore_index=token_to_idx[PAD])\n",
    "n_epoch = 1000\n",
    "\n",
    "train_loop(\n",
    "    model=model_lstm,\n",
    "    loss_func=loss_func,\n",
    "    opt=opt,\n",
    "    n_epoch=n_epoch,\n",
    "    num_tokens=num_tokens,\n",
    "    train_loader=train_loader\n",
    ")"
   ],
   "metadata": {
    "collapsed": false,
    "pycharm": {
     "name": "#%%\n"
    }
   }
  },
  {
   "cell_type": "markdown",
   "source": [
    "Plot the loss function of the number of epochs. Does the final loss become better?\n",
    "\n",
    "Финальный лосс для LSTM получился лучше, чем для RNN:\n",
    "\n",
    "Final Loss LSTM: 1.7023\n",
    "Final Loss RNN:  1.9688\n",
    "\n",
    "Это дает надежду, что генерируемый текст будет более понятный.\n"
   ],
   "metadata": {
    "collapsed": false,
    "pycharm": {
     "name": "#%% md\n"
    }
   }
  },
  {
   "cell_type": "markdown",
   "source": [
    "Generate text using the trained net with different `temperature` parameter: `[0.1, 0.2, 0.5, 1.0, 2.0]`.\n",
    "\n",
    "Evaluate the results visually, try to interpret them."
   ],
   "metadata": {
    "collapsed": false,
    "pycharm": {
     "name": "#%% md\n"
    }
   }
  },
  {
   "cell_type": "code",
   "execution_count": 42,
   "outputs": [
    {
     "name": "stdout",
     "output_type": "stream",
     "text": [
      "Когда\n",
      "\n",
      "***\n",
      "Temeprature: 0.1\n",
      "когда не последний столов,\n",
      "и все в нем не простинный две,\n",
      "к нему не видет она встренье\n",
      "в полу в нем не последней,\n",
      "и все в нем не\n",
      "\n",
      "***\n",
      "Temeprature: 0.2\n",
      "когда не простите на стари,\n",
      "в полу в отот полна своей\n",
      "стару подного пред собою\n",
      "и кольги в ней не показли\n",
      "и думал не последанье\n",
      "п\n",
      "\n",
      "***\n",
      "Temeprature: 0.5\n",
      "когда не полка поредучи,\n",
      "ее забавник ленской слуги\n",
      "они пустом он все в селец,\n",
      "как старинный старин полмнул.\n",
      "а в своей терне и ст\n",
      "\n",
      "***\n",
      "Temeprature: 1.0\n",
      "когда, полну; постал жира\n",
      "вы, встреми вде млед, свои часа\n",
      "влади в эту него ругу\n",
      "уж был пустово рукаям\n",
      "свесну пред болуши молоду,\n",
      "\n",
      "***\n",
      "Temeprature: 2.0\n",
      "когдам отцир медло – и тымим\n",
      "а срммиала, всшонда: семьи!\n",
      "но юнемныйт прибылезвни?\n",
      "«к,.: xn.-тёаю правслчли; —\n",
      "бывантован… правил\n"
     ]
    }
   ],
   "source": [
    "model_lstm.eval()\n",
    "\n",
    "phrase = 'Когда'\n",
    "print(phrase)\n",
    "with torch.no_grad():\n",
    "    for temperature in [0.1, 0.2, 0.5, 1.0, 2.0]:\n",
    "        print('')\n",
    "        print('***')\n",
    "        print(f'Temeprature: {temperature}')\n",
    "        print(generate_sample(model_lstm, seed_phrase=phrase, max_length=128, temperature=temperature))"
   ],
   "metadata": {
    "collapsed": false,
    "pycharm": {
     "name": "#%%\n"
    }
   }
  },
  {
   "cell_type": "markdown",
   "metadata": {
    "id": "Zz6AlW747MiK",
    "pycharm": {
     "name": "#%% md\n"
    }
   },
   "source": [
    "Видно, что текст модели LSTM получился сильно лучше RNN. Также по тексту видно, что более высокая температура делает генерируемые тексты более разнообразными, добавляет туда более сложны знаки препинания и использует редкие символы.\n",
    "Исходя из генерируемого текста, наиболее \"лучший\" результат, как мне кажется, получается при температуре 0,5 до 1.0, т.е. это будет лучший выбор, по сравнении с остальными вариантами.\n",
    "\n",
    "Далее сохраним модели и воспроизведем получившиеся результаты еще раз."
   ]
  },
  {
   "cell_type": "markdown",
   "metadata": {
    "id": "iGB7H4rsGjdw",
    "pycharm": {
     "name": "#%% md\n"
    }
   },
   "source": [
    "### Saving and loading models"
   ]
  },
  {
   "cell_type": "markdown",
   "metadata": {
    "id": "oQkfNPd_Gjdx",
    "pycharm": {
     "name": "#%% md\n"
    }
   },
   "source": [
    "Save the model to the disk, then load it and generate text. Examples are available [here](https://pytorch.org/tutorials/beginner/saving_loading_models.html])."
   ]
  },
  {
   "cell_type": "code",
   "execution_count": 59,
   "outputs": [],
   "source": [
    "def model_save(model, name):\n",
    "    path_to_save = name+'.pth'\n",
    "    torch.save(model.state_dict(), path_to_save)"
   ],
   "metadata": {
    "collapsed": false,
    "pycharm": {
     "name": "#%%\n"
    }
   }
  },
  {
   "cell_type": "code",
   "execution_count": 60,
   "outputs": [],
   "source": [
    "model_save(model_rnn, 'model_rnn')\n",
    "model_save(model_lstm, 'model_lstm')"
   ],
   "metadata": {
    "collapsed": false,
    "pycharm": {
     "name": "#%%\n"
    }
   }
  },
  {
   "cell_type": "code",
   "execution_count": 61,
   "outputs": [],
   "source": [
    "def load_model(model_loaded, path_to_save):\n",
    "    torch_load = torch.load(path_to_save)\n",
    "    model_loaded.load_state_dict(torch_load)"
   ],
   "metadata": {
    "collapsed": false,
    "pycharm": {
     "name": "#%%\n"
    }
   }
  },
  {
   "cell_type": "code",
   "execution_count": 140,
   "outputs": [
    {
     "name": "stdout",
     "output_type": "stream",
     "text": [
      "так думал ее шаму обкают,\n",
      "до мне похарят о круга,\n",
      "почтенник, разятся в молчанье?\n",
      "как расслушливых нылавит.\n",
      "онегин как в татьяна боль,\n",
      "дале все ягины волнул.\n"
     ]
    }
   ],
   "source": [
    "model_lstm = LSTM()\n",
    "load_model(model_lstm, 'model_lstm.pth')\n",
    "\n",
    "model_lstm.eval()\n",
    "with torch.no_grad():\n",
    "    print(generate_sample(model_lstm, seed_phrase='Так думал', max_length=156, temperature=0.8))"
   ],
   "metadata": {
    "collapsed": false,
    "pycharm": {
     "name": "#%%\n"
    }
   }
  },
  {
   "cell_type": "code",
   "execution_count": 146,
   "outputs": [
    {
     "name": "stdout",
     "output_type": "stream",
     "text": [
      "так думал старенных подова\n",
      "я стот и так взлать деви\n",
      "приходит он и так порой\n",
      "он вот слагой четой делей.\n",
      "стариной пред это ни поэт\n",
      "и то взду на стростя поэт.\n",
      "\n"
     ]
    }
   ],
   "source": [
    "model_rnn = RNN()\n",
    "load_model(model_rnn, 'model_rnn.pth')\n",
    "\n",
    "model_rnn.eval()\n",
    "with torch.no_grad():\n",
    "    print(generate_sample(model_rnn, seed_phrase='Так думал', max_length=156, temperature=0.5))"
   ],
   "metadata": {
    "collapsed": false,
    "pycharm": {
     "name": "#%%\n"
    }
   }
  },
  {
   "cell_type": "markdown",
   "source": [
    "**Вывод:**\n",
    "\n",
    "Результаты проделанной работы выглядят довольно неплохо. Тексты получаются со знаками препинания, словоформы построены корректно, многие слова написаны правильно, а если учесть, что мы в качестве токенов использовали символы, то получается совсем хорошо.\n",
    "В целом также лучше себя показала сеть LSTM, которая чуть лучше, по моему мнению, справилась с заданием. В любом случае это было самое необычное задание и генерируемые тексты очень позабавили в процессе исследования."
   ],
   "metadata": {
    "collapsed": false,
    "pycharm": {
     "name": "#%% md\n"
    }
   }
  },
  {
   "cell_type": "markdown",
   "metadata": {
    "id": "QLZ_1c6HGjdy",
    "pycharm": {
     "name": "#%% md\n"
    }
   },
   "source": [
    "### References\n",
    "1. <a href='http://karpathy.github.io/2015/05/21/rnn-effectiveness/'> Andrew Karpathy blog post about RNN. </a> \n",
    "There are several examples of genration: Shakespeare texts, Latex formulas, Linux Sourse Code and children names."
   ]
  }
 ],
 "metadata": {
  "anaconda-cloud": {},
  "colab": {
   "collapsed_sections": [],
   "name": "Lab3_DL_part3_poetry.ipynb",
   "provenance": []
  },
  "kernelspec": {
   "display_name": "Python 3",
   "language": "python",
   "name": "python3"
  },
  "language_info": {
   "codemirror_mode": {
    "name": "ipython",
    "version": 3
   },
   "file_extension": ".py",
   "mimetype": "text/x-python",
   "name": "python",
   "nbconvert_exporter": "python",
   "pygments_lexer": "ipython3",
   "version": "3.6.6"
  }
 },
 "nbformat": 4,
 "nbformat_minor": 1
}